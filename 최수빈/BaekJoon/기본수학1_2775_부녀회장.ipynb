{
  "nbformat": 4,
  "nbformat_minor": 0,
  "metadata": {
    "colab": {
      "name": "기본수학1_2775_부녀회장.ipynb",
      "provenance": [],
      "authorship_tag": "ABX9TyMq+NQs3e/8xFMozRoKpzj3"
    },
    "kernelspec": {
      "name": "python3",
      "display_name": "Python 3"
    },
    "language_info": {
      "name": "python"
    }
  },
  "cells": [
    {
      "cell_type": "code",
      "execution_count": 32,
      "metadata": {
        "colab": {
          "base_uri": "https://localhost:8080/"
        },
        "id": "_mPd0STJB3cY",
        "outputId": "e55ee55e-6a4b-479e-c14d-24947d6263df"
      },
      "outputs": [
        {
          "output_type": "stream",
          "name": "stdout",
          "text": [
            "2\n",
            "1\n",
            "3\n",
            "6\n",
            "2\n",
            "3\n",
            "10\n"
          ]
        }
      ],
      "source": [
        "t = int(input())\n",
        "\n",
        "for i in range(t):\n",
        "  k= int(input())\n",
        "  n = int(input())\n",
        "  arr = [[0 for i in range(n)] for i in range(k+1)]\n",
        "  for a in range(n):\n",
        "    arr[0][a] = a+1\n",
        "  for b in range(1,k+1):\n",
        "    for c in range(n):\n",
        "      arr[b][c] =+ sum(arr[b-1][:c+1])\n",
        "  print(arr[k][n-1])"
      ]
    }
  ]
}