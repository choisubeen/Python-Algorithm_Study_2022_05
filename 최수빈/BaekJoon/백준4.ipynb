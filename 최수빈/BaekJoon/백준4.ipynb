{
 "cells": [
  {
   "cell_type": "code",
   "execution_count": 4,
   "metadata": {},
   "outputs": [
    {
     "name": "stdout",
     "output_type": "stream",
     "text": [
      "5\n",
      "20 10 35 30 7\n",
      "7 35 "
     ]
    }
   ],
   "source": [
    "n = int(input())\n",
    "a = list(map(int, input().split()))\n",
    "print(min(a), max(a), end=' ') \n",
    "# 여기서 n은 어디에 사용해야 할까요..? 제 코드엔 존재 의미가 없는것 같아서요,,"
   ]
  },
  {
   "cell_type": "code",
   "execution_count": 10,
   "metadata": {},
   "outputs": [
    {
     "name": "stdout",
     "output_type": "stream",
     "text": [
      "1\n",
      "2\n",
      "3\n",
      "4\n",
      "5\n",
      "9\n",
      "3\n",
      "4\n",
      "5\n",
      "9\n",
      "6\n"
     ]
    }
   ],
   "source": [
    "a=[]\n",
    "for i in range(9):\n",
    "    a.append(int(input()))\n",
    "print(max(a))\n",
    "print(a.index(max(a))+1)"
   ]
  },
  {
   "cell_type": "code",
   "execution_count": 12,
   "metadata": {},
   "outputs": [
    {
     "name": "stdout",
     "output_type": "stream",
     "text": [
      "150\n",
      "266\n",
      "427\n",
      "3\n",
      "1\n",
      "0\n",
      "2\n",
      "0\n",
      "0\n",
      "0\n",
      "2\n",
      "0\n",
      "0\n"
     ]
    }
   ],
   "source": [
    "a=int(input()); b=int(input()); c= int(input())\n",
    "ans = list(str(a*b*c))\n",
    "countlist = [0]*10 # 0~9까지 빈 리스트 만들고\n",
    "for i in range(10):\n",
    "    for n in ans:\n",
    "        if str(i)==n: \n",
    "            countlist[i] +=1 # 개수 세기\n",
    "for k in countlist:\n",
    "    print(k)"
   ]
  },
  {
   "cell_type": "code",
   "execution_count": 22,
   "metadata": {},
   "outputs": [
    {
     "name": "stdout",
     "output_type": "stream",
     "text": [
      "1\n",
      "2\n",
      "3\n",
      "4\n",
      "5\n",
      "6\n",
      "7\n",
      "8\n",
      "9\n",
      "9\n",
      "9\n",
      "[1, 2, 3, 4, 5, 6, 7, 8, 9, 9]\n"
     ]
    }
   ],
   "source": [
    "num = []\n",
    "for i in range(10):\n",
    "    a = int(input())\n",
    "    num.append(a)\n",
    "num2=[]\n",
    "for j in num:\n",
    "    num2.append(j%42)\n",
    "ans=[]\n",
    "for k in num2:\n",
    "    if k not in ans:\n",
    "        ans.append(k)\n",
    "print(len(ans))\n",
    "print(num2)"
   ]
  },
  {
   "cell_type": "code",
   "execution_count": 33,
   "metadata": {},
   "outputs": [
    {
     "name": "stdout",
     "output_type": "stream",
     "text": [
      "3\n",
      "40 60 80\n",
      "75.0\n"
     ]
    }
   ],
   "source": [
    "n = int(input())\n",
    "score = list(map(int, input().split()))\n",
    "max_score = max(score)\n",
    "\n",
    "new_score = []\n",
    "for i in score:\n",
    "    new = i/max_score*100\n",
    "    new_score.append(new)\n",
    "print(sum(new_score)/len(new_score))"
   ]
  },
  {
   "cell_type": "code",
   "execution_count": 43,
   "metadata": {},
   "outputs": [
    {
     "name": "stdout",
     "output_type": "stream",
     "text": [
      "2\n",
      "OOXXOXXOOO\n",
      "10\n",
      "OXOXOXOXOXOXOX\n",
      "7\n"
     ]
    }
   ],
   "source": [
    "n = int(input()) # 테스트 진행 개수\n",
    "\n",
    "for i in range(n):\n",
    "    case = list(input())\n",
    "    score = 0\n",
    "    sum_score=0 # 새로운 case가 시작되면 다시 원점으로\n",
    "    for i in case:\n",
    "        if i =='O':\n",
    "            score +=1\n",
    "            sum_score += score\n",
    "        else:\n",
    "            score=0\n",
    "    print(sum_score)"
   ]
  },
  {
   "cell_type": "code",
   "execution_count": 51,
   "metadata": {},
   "outputs": [
    {
     "name": "stdout",
     "output_type": "stream",
     "text": [
      "1\n",
      "7 100 95 90 80 70 60 50\n",
      "57.143%\n"
     ]
    }
   ],
   "source": [
    "n = int(input())\n",
    "for i in range(n):\n",
    "    case = list(map(int,input().split()))\n",
    "    score = case[1:]\n",
    "    mean = sum(score)/len(score)\n",
    "    portion = []\n",
    "    for j in score:\n",
    "        if j>mean:\n",
    "            portion.append(j)\n",
    "    ans = len(portion)/len(score)*100\n",
    "    print('%.3f'%ans+'%')"
   ]
  }
 ],
 "metadata": {
  "kernelspec": {
   "display_name": "Python 3",
   "language": "python",
   "name": "python3"
  },
  "language_info": {
   "codemirror_mode": {
    "name": "ipython",
    "version": 3
   },
   "file_extension": ".py",
   "mimetype": "text/x-python",
   "name": "python",
   "nbconvert_exporter": "python",
   "pygments_lexer": "ipython3",
   "version": "3.7.6"
  }
 },
 "nbformat": 4,
 "nbformat_minor": 4
}
