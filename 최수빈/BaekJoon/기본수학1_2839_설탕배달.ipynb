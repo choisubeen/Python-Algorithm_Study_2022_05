{
  "nbformat": 4,
  "nbformat_minor": 0,
  "metadata": {
    "colab": {
      "name": "기본수학1_2839_설탕배달.ipynb",
      "provenance": [],
      "authorship_tag": "ABX9TyOnywWZ5E+qbqQAe7reGVe7"
    },
    "kernelspec": {
      "name": "python3",
      "display_name": "Python 3"
    },
    "language_info": {
      "name": "python"
    }
  },
  "cells": [
    {
      "cell_type": "code",
      "execution_count": 33,
      "metadata": {
        "colab": {
          "base_uri": "https://localhost:8080/"
        },
        "id": "_mPd0STJB3cY",
        "outputId": "0097f6c9-1b93-454b-8194-fdc61388076e"
      },
      "outputs": [
        {
          "output_type": "stream",
          "name": "stdout",
          "text": [
            "18\n",
            "4\n"
          ]
        }
      ],
      "source": [
        "n = int(input())\n",
        "bag = 0\n",
        "while n >=0:\n",
        "  if n %5 ==0:\n",
        "    bag += (n//5)\n",
        "    print(bag)\n",
        "    break\n",
        "  n -=3\n",
        "  bag +=1\n",
        "else:\n",
        "  print(-1)"
      ]
    }
  ]
}