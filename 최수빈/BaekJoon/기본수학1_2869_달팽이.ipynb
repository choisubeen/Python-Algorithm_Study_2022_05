{
  "nbformat": 4,
  "nbformat_minor": 0,
  "metadata": {
    "colab": {
      "name": "기본수학1_2869_달팽이.ipynb",
      "provenance": [],
      "authorship_tag": "ABX9TyN4yd49V8wOFtYG0Hc8ybVJ"
    },
    "kernelspec": {
      "name": "python3",
      "display_name": "Python 3"
    },
    "language_info": {
      "name": "python"
    }
  },
  "cells": [
    {
      "cell_type": "code",
      "execution_count": 29,
      "metadata": {
        "colab": {
          "base_uri": "https://localhost:8080/"
        },
        "id": "_mPd0STJB3cY",
        "outputId": "2701e83b-caf6-402b-fb3c-4f10a907f111"
      },
      "outputs": [
        {
          "output_type": "stream",
          "name": "stdout",
          "text": [
            "100 99 1000000000\n",
            "999999901\n"
          ]
        }
      ],
      "source": [
        "import math\n",
        "a,b,v = map(int, input().split())\n",
        "day = math.ceil((v/(a-b)-b/(a-b)))\n",
        "print(day)\n"
      ]
    }
  ]
}