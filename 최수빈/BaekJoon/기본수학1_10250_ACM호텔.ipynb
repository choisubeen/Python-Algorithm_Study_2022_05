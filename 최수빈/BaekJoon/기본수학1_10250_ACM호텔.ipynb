{
  "nbformat": 4,
  "nbformat_minor": 0,
  "metadata": {
    "colab": {
      "name": "기본수학1_10250_ACM호텔.ipynb",
      "provenance": [],
      "authorship_tag": "ABX9TyNTJn3KwWoXByr/9HuZyA0n"
    },
    "kernelspec": {
      "name": "python3",
      "display_name": "Python 3"
    },
    "language_info": {
      "name": "python"
    }
  },
  "cells": [
    {
      "cell_type": "code",
      "execution_count": 31,
      "metadata": {
        "colab": {
          "base_uri": "https://localhost:8080/"
        },
        "id": "_mPd0STJB3cY",
        "outputId": "98f3742c-a935-470a-c9c6-503f29111102"
      },
      "outputs": [
        {
          "output_type": "stream",
          "name": "stdout",
          "text": [
            "2\n",
            "6 12 10\n",
            "402\n",
            "30 50 72\n",
            "1203\n"
          ]
        }
      ],
      "source": [
        "t = int(input())\n",
        "for i in range(t):\n",
        "    h,w,n = map(int, input().split())\n",
        "    num = n//h +1\n",
        "    floor = n%h\n",
        "    if n%h==0:\n",
        "        num = n//h\n",
        "        floor = h\n",
        "    print(f'{floor*100+num}')"
      ]
    }
  ]
}