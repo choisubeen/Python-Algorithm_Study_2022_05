{
  "nbformat": 4,
  "nbformat_minor": 0,
  "metadata": {
    "colab": {
      "name": "기본수학1_1193_분수찾기.ipynb",
      "provenance": [],
      "authorship_tag": "ABX9TyN2rK/g9YoUChoU2/UH/Gpb"
    },
    "kernelspec": {
      "name": "python3",
      "display_name": "Python 3"
    },
    "language_info": {
      "name": "python"
    }
  },
  "cells": [
    {
      "cell_type": "code",
      "execution_count": 28,
      "metadata": {
        "colab": {
          "base_uri": "https://localhost:8080/"
        },
        "id": "_mPd0STJB3cY",
        "outputId": "5abb217d-c68b-472f-fa21-8ce4dc95ef93"
      },
      "outputs": [
        {
          "output_type": "stream",
          "name": "stdout",
          "text": [
            "1\n",
            "1/1\n"
          ]
        }
      ],
      "source": [
        "# 1/1 → 1/2 → 2/1 → 3/1 → 2/2 → … 과 같은 지그재그 순서로 차례대로 1번, 2번, 3번, 4번, 5번, … 분수라고 하자.\n",
        "# X가 주어졌을 때, X번째 분수를 구하는 프로그램을 작성\n",
        "x= int(input())\n",
        "a = 1 #분자\n",
        "b = 1 #분모\n",
        "line = 1\n",
        "loc = 1 # 라인내 위치\n",
        "while True:\n",
        "    loc += line\n",
        "    line +=1\n",
        "    if loc > x:\n",
        "        break\n",
        "line -=1\n",
        "loc -=line\n",
        "\n",
        "if line%2==0:\n",
        "    b = line\n",
        "    for i in range(loc,x):\n",
        "        a+=1\n",
        "        b-=1\n",
        "else:\n",
        "    a = line\n",
        "    for i in range(loc, x):\n",
        "        a -=1\n",
        "        b +=1\n",
        "print(a,'/',b, sep = \"\")\n"
      ]
    }
  ]
}