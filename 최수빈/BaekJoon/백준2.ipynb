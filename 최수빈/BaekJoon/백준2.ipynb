{
 "cells": [
  {
   "cell_type": "code",
   "execution_count": 1,
   "metadata": {},
   "outputs": [
    {
     "name": "stdout",
     "output_type": "stream",
     "text": [
      "1 2\n",
      "<\n"
     ]
    }
   ],
   "source": [
    "a,b = map(int, input().split())\n",
    "if a>b:\n",
    "    print('>')\n",
    "elif a<b:\n",
    "    print('<')\n",
    "else:\n",
    "    print('==')"
   ]
  },
  {
   "cell_type": "code",
   "execution_count": 2,
   "metadata": {},
   "outputs": [
    {
     "name": "stdout",
     "output_type": "stream",
     "text": [
      "100\n",
      "A\n"
     ]
    }
   ],
   "source": [
    "a = int(input())\n",
    "if a>=90:\n",
    "    print('A')\n",
    "elif a>=80:\n",
    "    print('B')\n",
    "elif a>=70:\n",
    "    print('C')\n",
    "elif a>=60:\n",
    "    print('D')\n",
    "else:\n",
    "    print('F')"
   ]
  },
  {
   "cell_type": "code",
   "execution_count": 3,
   "metadata": {},
   "outputs": [
    {
     "name": "stdout",
     "output_type": "stream",
     "text": [
      "2000\n",
      "1\n"
     ]
    }
   ],
   "source": [
    "a = int(input())\n",
    "if ((a%4==0) and (a%100!=0)) or (a%400==0):\n",
    "    print(1)\n",
    "else:\n",
    "    print(0)"
   ]
  },
  {
   "cell_type": "code",
   "execution_count": 4,
   "metadata": {},
   "outputs": [
    {
     "name": "stdout",
     "output_type": "stream",
     "text": [
      "12\n",
      "5\n",
      "1\n"
     ]
    }
   ],
   "source": [
    "x= int(input()); y= int(input())\n",
    "if (x>0 and y>0):\n",
    "    print('1')\n",
    "elif (x<0 and y>0):\n",
    "    print('2')\n",
    "elif (x<0 and y<0):\n",
    "    print('3')\n",
    "else:\n",
    "    print('4')"
   ]
  },
  {
   "cell_type": "code",
   "execution_count": 5,
   "metadata": {},
   "outputs": [
    {
     "name": "stdout",
     "output_type": "stream",
     "text": [
      "10 10\n",
      "9 25\n"
     ]
    }
   ],
   "source": [
    "h,m = map(int, input().split())\n",
    "if h>=1 and m<45:\n",
    "    h = h-1\n",
    "    m = m+15\n",
    "    print(h, m)\n",
    "elif h==0 and m<45:\n",
    "    h=23\n",
    "    m=m+15\n",
    "    print(h,m)\n",
    "else:\n",
    "    m=m-45\n",
    "    print(h,m)"
   ]
  },
  {
   "cell_type": "code",
   "execution_count": 26,
   "metadata": {},
   "outputs": [
    {
     "name": "stdout",
     "output_type": "stream",
     "text": [
      "23 48\n",
      "25\n",
      "0 13\n"
     ]
    }
   ],
   "source": [
    "a, b = map(int, input().split())\n",
    "c = int(input())\n",
    "if b+c>=60:\n",
    "    a = a + ((b+c)//60)\n",
    "    b = (b + c)%60\n",
    "    if a>=24:\n",
    "        a = a-24\n",
    "elif b+c <60:\n",
    "    b = b+c\n",
    "print(a,b)"
   ]
  },
  {
   "cell_type": "code",
   "execution_count": 33,
   "metadata": {},
   "outputs": [
    {
     "name": "stdout",
     "output_type": "stream",
     "text": [
      "6 2 5\n",
      "600\n"
     ]
    }
   ],
   "source": [
    "a,b,c = map(int, input().split())\n",
    "if a==b==c:\n",
    "    m = 10000+(a*1000)\n",
    "elif (a==b) or (a==c) or (b==c):\n",
    "    if (a==b) or (a==c):\n",
    "        m = 1000 + (a*100)\n",
    "    else:\n",
    "        m = 1000 + (b*100)\n",
    "else:\n",
    "    m=max(a,b,c)*100\n",
    "print(m)"
   ]
  }
 ],
 "metadata": {
  "kernelspec": {
   "display_name": "Python 3",
   "language": "python",
   "name": "python3"
  },
  "language_info": {
   "codemirror_mode": {
    "name": "ipython",
    "version": 3
   },
   "file_extension": ".py",
   "mimetype": "text/x-python",
   "name": "python",
   "nbconvert_exporter": "python",
   "pygments_lexer": "ipython3",
   "version": "3.7.6"
  }
 },
 "nbformat": 4,
 "nbformat_minor": 4
}
